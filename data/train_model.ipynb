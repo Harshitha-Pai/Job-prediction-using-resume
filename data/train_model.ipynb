{
 "cells": [
  {
   "cell_type": "code",
   "execution_count": 1,
   "id": "526c1c22-491e-4e8d-b21d-dc1850226581",
   "metadata": {},
   "outputs": [],
   "source": [
    "import pandas as pd\n",
    "import numpy as np\n",
    "import matplotlib.pyplot as plt\n",
    "import seaborn as sns\n",
    "import re\n",
    "import string\n",
    "\n",
    "from sklearn.model_selection import train_test_split\n",
    "from sklearn.feature_extraction.text import TfidfVectorizer\n",
    "from sklearn.linear_model import LogisticRegression\n",
    "from sklearn.ensemble import RandomForestClassifier\n",
    "from sklearn.metrics import classification_report, confusion_matrix, accuracy_score\n"
   ]
  },
  {
   "cell_type": "code",
   "execution_count": 2,
   "id": "0cc6fefa-e3c0-4223-bcd9-f0ec0751616d",
   "metadata": {},
   "outputs": [
    {
     "name": "stdout",
     "output_type": "stream",
     "text": [
      "       Category                                             Resume\n",
      "0  Data Science  Skills * Programming Languages: Python (pandas...\n",
      "1  Data Science  Education Details \\r\\nMay 2013 to May 2017 B.E...\n",
      "2  Data Science  Areas of Interest Deep Learning, Control Syste...\n",
      "3  Data Science  Skills â¢ R â¢ Python â¢ SAP HANA â¢ Table...\n",
      "4  Data Science  Education Details \\r\\n MCA   YMCAUST,  Faridab...\n",
      "Category\n",
      "Java Developer               84\n",
      "Testing                      70\n",
      "DevOps Engineer              55\n",
      "Python Developer             48\n",
      "Web Designing                45\n",
      "HR                           44\n",
      "Hadoop                       42\n",
      "Sales                        40\n",
      "Data Science                 40\n",
      "Mechanical Engineer          40\n",
      "ETL Developer                40\n",
      "Blockchain                   40\n",
      "Operations Manager           40\n",
      "Arts                         36\n",
      "Database                     33\n",
      "Health and fitness           30\n",
      "PMO                          30\n",
      "Electrical Engineering       30\n",
      "Business Analyst             28\n",
      "DotNet Developer             28\n",
      "Automation Testing           26\n",
      "Network Security Engineer    25\n",
      "Civil Engineer               24\n",
      "SAP Developer                24\n",
      "Advocate                     20\n",
      "Name: count, dtype: int64\n"
     ]
    }
   ],
   "source": [
    "df = pd.read_csv(\"UpdatedResumeDataSet.csv\")   #Path to the data set, pls make sure its inside the same folder\n",
    "print(df.head())\n",
    "print(df['Category'].value_counts())\n"
   ]
  },
  {
   "cell_type": "code",
   "execution_count": 3,
   "id": "721deaca-2f94-4d4d-8d76-c24c8449b929",
   "metadata": {},
   "outputs": [],
   "source": [
    "#this is used to process- lowercse, removing punctuations, numbers etc\n",
    "def clean_text(text):\n",
    "    text = text.lower()\n",
    "    text = re.sub(r'\\d+', '', text)  # remove numbers\n",
    "    text = text.translate(str.maketrans('', '', string.punctuation))  # remove punctuation\n",
    "    text = re.sub(r'\\s+', ' ', text)  # remove extra spaces\n",
    "    return text\n",
    "\n",
    "df['cleaned_resume'] = df['Resume'].apply(clean_text)\n"
   ]
  },
  {
   "cell_type": "code",
   "execution_count": 4,
   "id": "55ce3f2d-1935-4d49-9388-ebe696a6ec92",
   "metadata": {},
   "outputs": [],
   "source": [
    "#extract the features\n",
    "tfidf = TfidfVectorizer(stop_words='english', max_features=5000)\n",
    "X = tfidf.fit_transform(df['cleaned_resume'])\n",
    "y = df['Category']\n"
   ]
  },
  {
   "cell_type": "code",
   "execution_count": 5,
   "id": "9ee9461a-5758-415f-811b-aecc443db41d",
   "metadata": {},
   "outputs": [],
   "source": [
    "#train and test splitting ;)\n",
    "X_train, X_test, y_train, y_test = train_test_split(\n",
    "    X, y, test_size=0.2, random_state=42, stratify=y\n",
    ")\n"
   ]
  },
  {
   "cell_type": "code",
   "execution_count": 6,
   "id": "4c6828fe-ef9a-405c-9921-5701251ca9c1",
   "metadata": {},
   "outputs": [],
   "source": [
    "#train the model\n",
    "\n",
    "# Logistic Regression\n",
    "lr = LogisticRegression(max_iter=1000)\n",
    "lr.fit(X_train, y_train)\n",
    "y_pred_lr = lr.predict(X_test)\n",
    "\n",
    "# Random Forest\n",
    "rf = RandomForestClassifier(n_estimators=200)\n",
    "rf.fit(X_train, y_train)\n",
    "y_pred_rf = rf.predict(X_test)\n"
   ]
  },
  {
   "cell_type": "code",
   "execution_count": 7,
   "id": "75dcc7ea-3424-4b45-9950-cf25144fa42f",
   "metadata": {},
   "outputs": [
    {
     "name": "stdout",
     "output_type": "stream",
     "text": [
      "Logistic Regression Accuracy: 0.9948186528497409\n",
      "                           precision    recall  f1-score   support\n",
      "\n",
      "                 Advocate       1.00      1.00      1.00         4\n",
      "                     Arts       1.00      1.00      1.00         7\n",
      "       Automation Testing       0.83      1.00      0.91         5\n",
      "               Blockchain       1.00      1.00      1.00         8\n",
      "         Business Analyst       1.00      1.00      1.00         6\n",
      "           Civil Engineer       1.00      1.00      1.00         5\n",
      "             Data Science       1.00      1.00      1.00         8\n",
      "                 Database       1.00      1.00      1.00         7\n",
      "          DevOps Engineer       1.00      0.91      0.95        11\n",
      "         DotNet Developer       1.00      1.00      1.00         5\n",
      "            ETL Developer       1.00      1.00      1.00         8\n",
      "   Electrical Engineering       1.00      1.00      1.00         6\n",
      "                       HR       1.00      1.00      1.00         9\n",
      "                   Hadoop       1.00      1.00      1.00         8\n",
      "       Health and fitness       1.00      1.00      1.00         6\n",
      "           Java Developer       1.00      1.00      1.00        17\n",
      "      Mechanical Engineer       1.00      1.00      1.00         8\n",
      "Network Security Engineer       1.00      1.00      1.00         5\n",
      "       Operations Manager       1.00      1.00      1.00         8\n",
      "                      PMO       1.00      1.00      1.00         6\n",
      "         Python Developer       1.00      1.00      1.00        10\n",
      "            SAP Developer       1.00      1.00      1.00         5\n",
      "                    Sales       1.00      1.00      1.00         8\n",
      "                  Testing       1.00      1.00      1.00        14\n",
      "            Web Designing       1.00      1.00      1.00         9\n",
      "\n",
      "                 accuracy                           0.99       193\n",
      "                macro avg       0.99      1.00      0.99       193\n",
      "             weighted avg       1.00      0.99      0.99       193\n",
      "\n",
      "Random Forest Accuracy: 0.9948186528497409\n",
      "                           precision    recall  f1-score   support\n",
      "\n",
      "                 Advocate       1.00      1.00      1.00         4\n",
      "                     Arts       1.00      1.00      1.00         7\n",
      "       Automation Testing       0.83      1.00      0.91         5\n",
      "               Blockchain       1.00      1.00      1.00         8\n",
      "         Business Analyst       1.00      1.00      1.00         6\n",
      "           Civil Engineer       1.00      1.00      1.00         5\n",
      "             Data Science       1.00      1.00      1.00         8\n",
      "                 Database       1.00      1.00      1.00         7\n",
      "          DevOps Engineer       1.00      0.91      0.95        11\n",
      "         DotNet Developer       1.00      1.00      1.00         5\n",
      "            ETL Developer       1.00      1.00      1.00         8\n",
      "   Electrical Engineering       1.00      1.00      1.00         6\n",
      "                       HR       1.00      1.00      1.00         9\n",
      "                   Hadoop       1.00      1.00      1.00         8\n",
      "       Health and fitness       1.00      1.00      1.00         6\n",
      "           Java Developer       1.00      1.00      1.00        17\n",
      "      Mechanical Engineer       1.00      1.00      1.00         8\n",
      "Network Security Engineer       1.00      1.00      1.00         5\n",
      "       Operations Manager       1.00      1.00      1.00         8\n",
      "                      PMO       1.00      1.00      1.00         6\n",
      "         Python Developer       1.00      1.00      1.00        10\n",
      "            SAP Developer       1.00      1.00      1.00         5\n",
      "                    Sales       1.00      1.00      1.00         8\n",
      "                  Testing       1.00      1.00      1.00        14\n",
      "            Web Designing       1.00      1.00      1.00         9\n",
      "\n",
      "                 accuracy                           0.99       193\n",
      "                macro avg       0.99      1.00      0.99       193\n",
      "             weighted avg       1.00      0.99      0.99       193\n",
      "\n"
     ]
    },
    {
     "data": {
      "image/png": "[encoded data removed]",
      "text/plain": [
       "<Figure size 640x480 with 2 Axes>"
      ]
     },
     "metadata": {},
     "output_type": "display_data"
    }
   ],
   "source": [
    "print(\"Logistic Regression Accuracy:\", accuracy_score(y_test, y_pred_lr))\n",
    "print(classification_report(y_test, y_pred_lr))\n",
    "\n",
    "print(\"Random Forest Accuracy:\", accuracy_score(y_test, y_pred_rf))\n",
    "print(classification_report(y_test, y_pred_rf))\n",
    "\n",
    "# Confusion matrix\n",
    "cm = confusion_matrix(y_test, y_pred_rf)\n",
    "sns.heatmap(cm, annot=True, fmt='d', cmap='Blues')\n",
    "plt.show()\n"
   ]
  },
  {
   "cell_type": "code",
   "execution_count": 9,
   "id": "1d8ea5a6-bb69-48c6-97b6-d06068d060dc",
   "metadata": {},
   "outputs": [
    {
     "data": {
      "text/plain": [
       "['models/tfidf_vectorizer.pkl']"
      ]
     },
     "execution_count": 9,
     "metadata": {},
     "output_type": "execute_result"
    }
   ],
   "source": [
    "import os\n",
    "import joblib\n",
    "\n",
    "# Make sure the folder exists\n",
    "os.makedirs(\"models\", exist_ok=True)\n",
    "\n",
    "# Save both model and vectorizer\n",
    "joblib.dump(lr, \"models/resume_model.pkl\")\n",
    "joblib.dump(tfidf, \"models/tfidf_vectorizer.pkl\")\n",
    "\n"
   ]
  },
  {
   "cell_type": "code",
   "execution_count": null,
   "id": "bce75c1d-0e5c-423f-ab02-06779305de10",
   "metadata": {},
   "outputs": [],
   "source": []
  }
 ],
 "metadata": {
  "kernelspec": {
   "display_name": "Python 3 (ipykernel)",
   "language": "python",
   "name": "python3"
  },
  "language_info": {
   "codemirror_mode": {
    "name": "ipython",
    "version": 3
   },
   "file_extension": ".py",
   "mimetype": "text/x-python",
   "name": "python",
   "nbconvert_exporter": "python",
   "pygments_lexer": "ipython3",
   "version": "3.13.2"
  }
 },
 "nbformat": 4,
 "nbformat_minor": 5
}
